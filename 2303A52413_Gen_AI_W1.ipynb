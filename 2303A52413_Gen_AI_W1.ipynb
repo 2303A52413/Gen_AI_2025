{
  "cells": [
    {
      "cell_type": "markdown",
      "metadata": {
        "id": "view-in-github",
        "colab_type": "text"
      },
      "source": [
        "<a href=\"https://colab.research.google.com/github/2303A52413/Gen_AI_2025/blob/main/2303A52413_Gen_AI_W1.ipynb\" target=\"_parent\"><img src=\"https://colab.research.google.com/assets/colab-badge.svg\" alt=\"Open In Colab\"/></a>"
      ]
    },
    {
      "cell_type": "markdown",
      "metadata": {
        "id": "n9-c1UbaYY3G"
      },
      "source": [
        "Regression Matrices"
      ]
    },
    {
      "cell_type": "code",
      "execution_count": 1,
      "metadata": {
        "id": "rQ1NmSYBXV2j"
      },
      "outputs": [],
      "source": [
        "ya=[10,20,30,40,50]\n",
        "yp=[10.2,20.5,30.3,40.8,50.6]"
      ]
    },
    {
      "cell_type": "code",
      "execution_count": 2,
      "metadata": {
        "colab": {
          "base_uri": "https://localhost:8080/"
        },
        "id": "fZLyeHKUZtEw",
        "outputId": "9bbf66a0-3994-43f9-8168-5652be08bad9"
      },
      "outputs": [
        {
          "output_type": "stream",
          "name": "stdout",
          "text": [
            "mean square error :  0.27599999999999947\n"
          ]
        }
      ],
      "source": [
        "total = 0\n",
        "for i in range(len(ya)):\n",
        "  total = total + (ya[i] - yp[i])**2  # Change 'sum' to 'total' to avoid overwriting the built-in function\n",
        "mse = total / len(ya)\n",
        "print(\"mean square error : \", mse)"
      ]
    },
    {
      "cell_type": "code",
      "execution_count": 3,
      "metadata": {
        "colab": {
          "base_uri": "https://localhost:8080/"
        },
        "id": "wwV_F_CNZ9vr",
        "outputId": "5f65f237-0c97-45fb-ce1e-6e56e39b69ff"
      },
      "outputs": [
        {
          "output_type": "stream",
          "name": "stdout",
          "text": [
            "mean absolute error :  0.4799999999999997\n"
          ]
        }
      ],
      "source": [
        "total_sum = 0  # Changed variable name to 'total_sum' to avoid conflict\n",
        "for i in range(len(ya)):\n",
        "  total_sum = total_sum + abs((ya[i] - yp[i]))  # Using 'total_sum' instead of 'sum'\n",
        "mae = total_sum / len(ya)\n",
        "print(\"mean absolute error : \", mae)"
      ]
    },
    {
      "cell_type": "code",
      "execution_count": 4,
      "metadata": {
        "colab": {
          "base_uri": "https://localhost:8080/"
        },
        "id": "HStWL3WAaAts",
        "outputId": "15bbddc8-fabf-4319-a309-4c5cbfc9d786"
      },
      "outputs": [
        {
          "output_type": "stream",
          "name": "stdout",
          "text": [
            "Root mean square error :  0.5253570214625474\n"
          ]
        }
      ],
      "source": [
        "print(\"Root mean square error : \",(mse)**0.5)"
      ]
    },
    {
      "cell_type": "code",
      "execution_count": 5,
      "metadata": {
        "id": "HxxMrGpwaLO2"
      },
      "outputs": [],
      "source": [
        "from sklearn.metrics import mean_squared_error,mean_absolute_error,root_mean_squared_error"
      ]
    },
    {
      "cell_type": "code",
      "execution_count": 6,
      "metadata": {
        "colab": {
          "base_uri": "https://localhost:8080/"
        },
        "id": "pVDaqrwsaSnb",
        "outputId": "0353c6ab-00a9-4b95-f580-7faaa92ee9ff"
      },
      "outputs": [
        {
          "output_type": "stream",
          "name": "stdout",
          "text": [
            "mean square error :  0.27599999999999947\n",
            "mean absolute error :  0.4799999999999997\n",
            "Root mean square error :  0.5253570214625474\n"
          ]
        }
      ],
      "source": [
        "print(\"mean square error : \",mean_squared_error(ya,yp))\n",
        "print(\"mean absolute error : \",mean_absolute_error(ya,yp))\n",
        "print(\"Root mean square error : \",root_mean_squared_error(ya,yp))"
      ]
    },
    {
      "cell_type": "code",
      "execution_count": 7,
      "metadata": {
        "id": "JMczv8KwaaTY"
      },
      "outputs": [],
      "source": [
        "ya1=[0,0,0,0,0,1,1,1,1,1,1,2,2,2,2,2]\n",
        "yp1=[0,0,1,1,2,2,0,1,1,1,2,0,2,1,1,2]"
      ]
    },
    {
      "cell_type": "code",
      "execution_count": 8,
      "metadata": {
        "colab": {
          "base_uri": "https://localhost:8080/"
        },
        "id": "RfGHGqhSABU8",
        "outputId": "2908ec89-aaa2-468c-9e50-4a796f102305"
      },
      "outputs": [
        {
          "output_type": "stream",
          "name": "stdout",
          "text": [
            "[2, 2, 1]\n",
            "[1, 3, 2]\n",
            "[1, 2, 2]\n"
          ]
        }
      ],
      "source": [
        "min_label = min(min(ya1), min(yp1))\n",
        "max_label = max(max(ya1), max(yp1))\n",
        "\n",
        "\n",
        "num_classes = max_label - min_label + 1\n",
        "\n",
        "cm = [[0 for _ in range(num_classes)] for _ in range(num_classes)]\n",
        "\n",
        "for i in range(len(ya1)):\n",
        "    cm[ya1[i]-min_label][yp1[i]-min_label] += 1\n",
        "\n",
        "for row in cm:\n",
        "    print(row)\n"
      ]
    },
    {
      "cell_type": "code",
      "execution_count": 9,
      "metadata": {
        "id": "oMU7eUBPI4cS"
      },
      "outputs": [],
      "source": [
        "import numpy as np"
      ]
    },
    {
      "cell_type": "code",
      "execution_count": 10,
      "metadata": {
        "colab": {
          "base_uri": "https://localhost:8080/"
        },
        "id": "-9--3z7RGdV-",
        "outputId": "5a17b60f-b613-42c9-b238-ec8d5794bf1d"
      },
      "outputs": [
        {
          "output_type": "stream",
          "name": "stdout",
          "text": [
            "\n",
            "Class 0:\n",
            "  Precision: 0.50\n",
            "  Recall: 0.40\n",
            "  F1-Score: 0.44\n",
            "\n",
            "Class 1:\n",
            "  Precision: 0.43\n",
            "  Recall: 0.50\n",
            "  F1-Score: 0.46\n",
            "\n",
            "Class 2:\n",
            "  Precision: 0.40\n",
            "  Recall: 0.40\n",
            "  F1-Score: 0.40\n",
            "\n",
            "Metrics:\n",
            "Overall Accuracy: 0.44\n",
            "Overall Precision: 0.44\n",
            "Overall Recall: 0.43\n",
            "Overall F1-Score: 0.44\n",
            "\n",
            "\n"
          ]
        },
        {
          "output_type": "stream",
          "name": "stderr",
          "text": [
            "<ipython-input-10-bb5a5184c1ba>:9: DeprecationWarning: Calling np.sum(generator) is deprecated, and in the future will give a different result. Use np.sum(np.fromiter(generator)) or the python sum builtin instead.\n",
            "  false_positive = np.sum(cm[j][i] for j in range(num_classes)) - true_positive\n",
            "<ipython-input-10-bb5a5184c1ba>:10: DeprecationWarning: Calling np.sum(generator) is deprecated, and in the future will give a different result. Use np.sum(np.fromiter(generator)) or the python sum builtin instead.\n",
            "  false_negative = np.sum(cm[i][j] for j in range(num_classes)) - true_positive\n",
            "<ipython-input-10-bb5a5184c1ba>:11: DeprecationWarning: Calling np.sum(generator) is deprecated, and in the future will give a different result. Use np.sum(np.fromiter(generator)) or the python sum builtin instead.\n",
            "  true_negative = np.sum(np.sum(cm[row][col] for col in range(num_classes)) for row in range(num_classes)) - (true_positive + false_positive + false_negative)\n"
          ]
        }
      ],
      "source": [
        "accuracy = np.sum(np.diagonal(cm)) / np.sum(cm)\n",
        "\n",
        "precision = {}\n",
        "recall = {}\n",
        "f1_score = {}\n",
        "\n",
        "for i in range(num_classes):\n",
        "    true_positive = cm[i][i]\n",
        "    false_positive = np.sum(cm[j][i] for j in range(num_classes)) - true_positive\n",
        "    false_negative = np.sum(cm[i][j] for j in range(num_classes)) - true_positive\n",
        "    true_negative = np.sum(np.sum(cm[row][col] for col in range(num_classes)) for row in range(num_classes)) - (true_positive + false_positive + false_negative)\n",
        "\n",
        "    # Precision: TP / (TP + FP)\n",
        "    precision[i] = true_positive / (true_positive + false_positive) if (true_positive + false_positive) > 0 else 0\n",
        "\n",
        "    # Recall: TP / (TP + FN)\n",
        "    recall[i] = true_positive / (true_positive + false_negative) if (true_positive + false_negative) > 0 else 0\n",
        "\n",
        "    # F1 Score: 2 * (Precision * Recall) / (Precision + Recall)\n",
        "    if precision[i] + recall[i] > 0:\n",
        "        f1_score[i] = 2 * (precision[i] * recall[i]) / (precision[i] + recall[i])\n",
        "    else:\n",
        "        f1_score[i] = 0\n",
        "\n",
        "# Calculate overall precision, recall, and F1-score using numpy\n",
        "overall_precision = np.sum([precision[i] for i in range(num_classes)])/num_classes\n",
        "overall_recall = np.sum([recall[i] for i in range(num_classes)])/num_classes\n",
        "overall_f1_score = np.sum([f1_score[i] for i in range(num_classes)])/num_classes\n",
        "\n",
        "# Print results\n",
        "for i in range(num_classes):\n",
        "    print(f\"\\nClass {i + min_label}:\")\n",
        "    print(f\"  Precision: {precision[i]:.2f}\")\n",
        "    print(f\"  Recall: {recall[i]:.2f}\")\n",
        "    print(f\"  F1-Score: {f1_score[i]:.2f}\")\n",
        "\n",
        "\n",
        "print(\"\\nMetrics:\")\n",
        "print(f\"Overall Accuracy: {accuracy:.2f}\")\n",
        "print(f\"Overall Precision: {overall_precision:.2f}\")\n",
        "print(f\"Overall Recall: {overall_recall:.2f}\")\n",
        "print(f\"Overall F1-Score: {overall_f1_score:.2f}\")\n",
        "\n",
        "print()\n",
        "print()"
      ]
    },
    {
      "cell_type": "code",
      "execution_count": 11,
      "metadata": {
        "id": "EUERDDOsLgKn"
      },
      "outputs": [],
      "source": [
        "from sklearn.metrics import accuracy_score,precision_score,f1_score,recall_score,classification_report,confusion_matrix"
      ]
    },
    {
      "cell_type": "code",
      "execution_count": 12,
      "metadata": {
        "colab": {
          "base_uri": "https://localhost:8080/"
        },
        "id": "mIPA6IbhNeIr",
        "outputId": "9f710fd3-7c8f-4c32-a98a-56b3f08074c7"
      },
      "outputs": [
        {
          "output_type": "stream",
          "name": "stdout",
          "text": [
            "[[2 2 1]\n",
            " [1 3 2]\n",
            " [1 2 2]]\n"
          ]
        }
      ],
      "source": [
        "print(confusion_matrix(ya1,yp1))"
      ]
    },
    {
      "cell_type": "code",
      "execution_count": 13,
      "metadata": {
        "colab": {
          "base_uri": "https://localhost:8080/"
        },
        "id": "xazicOLtLzz7",
        "outputId": "a5b65b88-4f9d-4c84-9359-03990e3a379c"
      },
      "outputs": [
        {
          "output_type": "stream",
          "name": "stdout",
          "text": [
            "              precision    recall  f1-score   support\n",
            "\n",
            "           0       0.50      0.40      0.44         5\n",
            "           1       0.43      0.50      0.46         6\n",
            "           2       0.40      0.40      0.40         5\n",
            "\n",
            "    accuracy                           0.44        16\n",
            "   macro avg       0.44      0.43      0.44        16\n",
            "weighted avg       0.44      0.44      0.44        16\n",
            "\n"
          ]
        }
      ],
      "source": [
        "print(classification_report(ya1,yp1))"
      ]
    },
    {
      "cell_type": "code",
      "execution_count": 14,
      "metadata": {
        "colab": {
          "base_uri": "https://localhost:8080/"
        },
        "id": "77-jG--xMayV",
        "outputId": "0a2da12d-d3c3-4a84-c8e2-e69fd280701d"
      },
      "outputs": [
        {
          "output_type": "stream",
          "name": "stdout",
          "text": [
            "\n",
            "Metrics:\n",
            "Overall Accuracy: 0.44\n",
            "Overall Precision: 0.44\n",
            "Overall Recall: 0.44\n",
            "Overall F1-Score: 0.44\n"
          ]
        }
      ],
      "source": [
        "print(\"\\nMetrics:\")\n",
        "print(f\"Overall Accuracy: {accuracy_score(ya1,yp1):.2f}\")\n",
        "print(f\"Overall Precision: {precision_score(ya1,yp1, average='weighted'):.2f}\")\n",
        "print(f\"Overall Recall: {recall_score(ya1,yp1, average='weighted'):.2f}\")\n",
        "print(f\"Overall F1-Score: {f1_score(ya1,yp1, average='weighted'):.2f}\")"
      ]
    }
  ],
  "metadata": {
    "colab": {
      "provenance": [],
      "include_colab_link": true
    },
    "kernelspec": {
      "display_name": "Python 3",
      "name": "python3"
    },
    "language_info": {
      "name": "python"
    }
  },
  "nbformat": 4,
  "nbformat_minor": 0
}