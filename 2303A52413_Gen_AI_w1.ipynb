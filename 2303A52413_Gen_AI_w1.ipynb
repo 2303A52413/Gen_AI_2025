{
  "nbformat": 4,
  "nbformat_minor": 0,
  "metadata": {
    "colab": {
      "provenance": [],
      "authorship_tag": "ABX9TyPQjQjHC6fB5LVAzkTU+D8Y",
      "include_colab_link": true
    },
    "kernelspec": {
      "name": "python3",
      "display_name": "Python 3"
    },
    "language_info": {
      "name": "python"
    }
  },
  "cells": [
    {
      "cell_type": "markdown",
      "metadata": {
        "id": "view-in-github",
        "colab_type": "text"
      },
      "source": [
        "<a href=\"https://colab.research.google.com/github/2303A52413/Gen_AI_2025/blob/main/2303A52413_Gen_AI_w1.ipynb\" target=\"_parent\"><img src=\"https://colab.research.google.com/assets/colab-badge.svg\" alt=\"Open In Colab\"/></a>"
      ]
    },
    {
      "cell_type": "code",
      "execution_count": 2,
      "metadata": {
        "colab": {
          "base_uri": "https://localhost:8080/"
        },
        "id": "fk4AtCzkaMJN",
        "outputId": "01329869-6c0d-4bcc-9dc6-5e23086175a2"
      },
      "outputs": [
        {
          "output_type": "stream",
          "name": "stdout",
          "text": [
            "Optimal Production Plan:\n",
            "Units of Product A to produce: 2\n",
            "Units of Product B to produce: 3\n",
            "Maximum Profit: Rs 27\n"
          ]
        }
      ],
      "source": [
        "\n",
        "max_milk = 5\n",
        "max_chocolate = 12\n",
        "\n",
        "\n",
        "profit_of_A = 6\n",
        "profit_of_B = 5\n",
        "\n",
        "\n",
        "best_profit = 0\n",
        "best_A_units = 0\n",
        "best_B_units = 0\n",
        "\n",
        "\n",
        "for A_units in range(max_milk + 1):\n",
        "    for B_units in range(max_milk + 1 - A_units):\n",
        "        if (3 * A_units + 2 * B_units) <= max_chocolate:\n",
        "\n",
        "            current_profit = (profit_of_A * A_units) + (profit_of_B * B_units)\n",
        "\n",
        "            if current_profit > best_profit:\n",
        "                best_profit = current_profit\n",
        "                best_A_units = A_units\n",
        "                best_B_units = B_units\n",
        "\n",
        "\n",
        "print(\"Optimal Production Plan:\")\n",
        "print(f\"Units of Product A to produce: {best_A_units}\")\n",
        "print(f\"Units of Product B to produce: {best_B_units}\")\n",
        "print(f\"Maximum Profit: Rs {best_profit}\")"
      ]
    },
    {
      "cell_type": "code",
      "source": [
        "from scipy.optimize import linprog\n",
        "import numpy as np\n",
        "\n",
        "\n",
        "objective_coeffs = [-50, -120]\n",
        "\n",
        "\n",
        "lhs_constraints = [\n",
        "    [1, 1],\n",
        "    [7000, 2000],\n",
        "    [10, 30]\n",
        "]\n",
        "\n",
        "rhs_constraints = [110, 700000, 1200]\n",
        "\n",
        "\n",
        "x_bounds = (0, None)\n",
        "y_bounds = (0, None)\n",
        "\n",
        "\n",
        "solution = linprog(objective_coeffs, A_ub=lhs_constraints, b_ub=rhs_constraints, bounds=[x_bounds, y_bounds], method='highs')\n",
        "\n",
        "\n",
        "optimal_x, optimal_y = solution.x\n",
        "max_profit = -solution.fun\n",
        "\n",
        "\n",
        "print(\"\\nLinear Programming Approach Results:\")\n",
        "print(f\"Optimal land for Wheat: {np.round(optimal_x)} hectares\")\n",
        "print(f\"Optimal land for Barley: {np.round(optimal_y)} hectares\")\n",
        "print(f\"Maximum Profit: Rs {np.round(max_profit)}\")"
      ],
      "metadata": {
        "colab": {
          "base_uri": "https://localhost:8080/"
        },
        "id": "l1oEyVjZeQAw",
        "outputId": "8cfb1bf0-3da4-44f2-cc2d-8d2d668f5158"
      },
      "execution_count": 3,
      "outputs": [
        {
          "output_type": "stream",
          "name": "stdout",
          "text": [
            "\n",
            "Linear Programming Approach Results:\n",
            "Optimal land for Wheat: 98.0 hectares\n",
            "Optimal land for Barley: 7.0 hectares\n",
            "Maximum Profit: Rs 5779.0\n"
          ]
        }
      ]
    }
  ]
}