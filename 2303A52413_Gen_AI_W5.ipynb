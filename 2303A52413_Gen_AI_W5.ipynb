{
  "nbformat": 4,
  "nbformat_minor": 0,
  "metadata": {
    "colab": {
      "provenance": [],
      "authorship_tag": "ABX9TyOeYHFt0I7xsDjs1jjhzis7",
      "include_colab_link": true
    },
    "kernelspec": {
      "name": "python3",
      "display_name": "Python 3"
    },
    "language_info": {
      "name": "python"
    }
  },
  "cells": [
    {
      "cell_type": "markdown",
      "metadata": {
        "id": "view-in-github",
        "colab_type": "text"
      },
      "source": [
        "<a href=\"https://colab.research.google.com/github/2303A52413/Gen_AI_2025/blob/main/2303A52413_Gen_AI_W5.ipynb\" target=\"_parent\"><img src=\"https://colab.research.google.com/assets/colab-badge.svg\" alt=\"Open In Colab\"/></a>"
      ]
    },
    {
      "cell_type": "markdown",
      "source": [
        "\n",
        "\n",
        " Design a multi-layer ANN architecture with one input, one hidden, and one output\n",
        "layer. Assume a linear activation function in the output layer and a sigmoid activation function\n",
        "in the hidden layer.\n",
        "• Write Python code for a backpropagation algorithm with gradient descent optimization to\n",
        "update weights and bias parameters of the ANN model with training data shown in Table\n",
        "1.\n",
        "• Calculate the mean square error with training and testing data shown in Table 2.\n",
        "• Write Python code that reads the input data [x1 and x2] from the user. Predict the output\n",
        "with deployed ANN model\n",
        "Tabela 1: Training Data\n",
        "x1 x2 y\n",
        "0.1 0.2 0.3432\n",
        "0.2 0.3 0.3490\n",
        "0.3 0.4 0.3548\n",
        "0.6 0.7 0.3720\n",
        "0.7 0.8 0.3776\n",
        "0.8 0.9 0.3832\n",
        "Tabela 2: Test Data\n",
        "x1 x2 y\n",
        "0.4 0.5 0.3606\n",
        "0.5 0.6 0.3663"
      ],
      "metadata": {
        "id": "bJOVD2qylO6Z"
      }
    },
    {
      "cell_type": "code",
      "execution_count": null,
      "metadata": {
        "colab": {
          "base_uri": "https://localhost:8080/"
        },
        "id": "pJaWvU5faKN8",
        "outputId": "d86f7c5b-c1b7-4932-8ed6-3fb81632351e"
      },
      "outputs": [
        {
          "output_type": "stream",
          "name": "stdout",
          "text": [
            "Training MSE: 2.232148281718407e-07\n",
            "Testing MSE: 5.719012223799136e-07\n",
            "Enter x1 and x2: 0.4 0.5\n",
            "Predicted output: 0.3613369147663513\n"
          ]
        }
      ],
      "source": [
        "import numpy as np\n",
        "\n",
        "def sigmoid(x):\n",
        "    return 1 / (1 + np.exp(-x))\n",
        "\n",
        "def sigmoid_derivative(x):\n",
        "    return x * (1 - x)\n",
        "\n",
        "def train_ann(X, y, hidden_neurons=3, epochs=10000, learning_rate=0.1):\n",
        "    input_neurons = X.shape[1]\n",
        "    output_neurons = 1\n",
        "\n",
        "    W1 = np.random.rand(input_neurons, hidden_neurons)\n",
        "    b1 = np.random.rand(hidden_neurons)\n",
        "    W2 = np.random.rand(hidden_neurons, output_neurons)\n",
        "    b2 = np.random.rand(output_neurons)\n",
        "\n",
        "    for _ in range(epochs):\n",
        "\n",
        "        hidden_input = np.dot(X, W1) + b1\n",
        "        hidden_output = sigmoid(hidden_input)\n",
        "        final_input = np.dot(hidden_output, W2) + b2\n",
        "        final_output = final_input\n",
        "\n",
        "        error = y - final_output\n",
        "\n",
        "        d_output = error\n",
        "        d_hidden = d_output.dot(W2.T) * sigmoid_derivative(hidden_output)\n",
        "\n",
        "        W2 += learning_rate * hidden_output.T.dot(d_output)\n",
        "        b2 += learning_rate * np.sum(d_output, axis=0)\n",
        "        W1 += learning_rate * X.T.dot(d_hidden)\n",
        "        b1 += learning_rate * np.sum(d_hidden, axis=0)\n",
        "\n",
        "    return W1, b1, W2, b2\n",
        "\n",
        "def predict(X, W1, b1, W2, b2):\n",
        "    hidden_input = np.dot(X, W1) + b1\n",
        "    hidden_output = sigmoid(hidden_input)\n",
        "    final_input = np.dot(hidden_output, W2) + b2\n",
        "    return final_input\n",
        "\n",
        "def mean_square_error(y_true, y_pred):\n",
        "    return np.mean((y_true - y_pred) ** 2)\n",
        "\n",
        "X_train = np.array([[0.1, 0.2], [0.2, 0.3], [0.3, 0.4], [0.6, 0.7], [0.7, 0.8], [0.8, 0.9]])\n",
        "y_train = np.array([[0.3432], [0.3490], [0.3548], [0.3720], [0.3776], [0.3832]])\n",
        "\n",
        "W1, b1, W2, b2 = train_ann(X_train, y_train)\n",
        "\n",
        "X_test = np.array([[0.4, 0.5], [0.5, 0.6]])\n",
        "y_test = np.array([[0.3606], [0.3663]])\n",
        "\n",
        "y_train_pred = predict(X_train, W1, b1, W2, b2)\n",
        "y_test_pred = predict(X_test, W1, b1, W2, b2)\n",
        "\n",
        "print(\"Training MSE:\", mean_square_error(y_train, y_train_pred))\n",
        "print(\"Testing MSE:\", mean_square_error(y_test, y_test_pred))\n",
        "\n",
        "x1, x2 = map(float, input(\"Enter x1 and x2: \").split())\n",
        "user_input = np.array([[x1, x2]])\n",
        "prediction = predict(user_input, W1, b1, W2, b2)\n",
        "print(\"Predicted output:\", prediction[0][0])"
      ]
    }
  ]
}